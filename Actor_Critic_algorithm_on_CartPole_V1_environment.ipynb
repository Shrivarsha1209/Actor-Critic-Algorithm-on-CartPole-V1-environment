{
  "nbformat": 4,
  "nbformat_minor": 0,
  "metadata": {
    "colab": {
      "provenance": []
    },
    "kernelspec": {
      "name": "python3",
      "display_name": "Python 3"
    },
    "language_info": {
      "name": "python"
    }
  },
  "cells": [
    {
      "cell_type": "code",
      "execution_count": null,
      "metadata": {
        "colab": {
          "base_uri": "https://localhost:8080/"
        },
        "id": "FXUAzWZVIWI6",
        "outputId": "f1c7df92-4f0b-4c7b-e9b1-b2f24cf6a435"
      },
      "outputs": [
        {
          "output_type": "stream",
          "name": "stdout",
          "text": [
            "Requirement already satisfied: torch in /usr/local/lib/python3.10/dist-packages (2.4.1+cu121)\n",
            "Requirement already satisfied: gym in /usr/local/lib/python3.10/dist-packages (0.25.2)\n",
            "Requirement already satisfied: filelock in /usr/local/lib/python3.10/dist-packages (from torch) (3.16.1)\n",
            "Requirement already satisfied: typing-extensions>=4.8.0 in /usr/local/lib/python3.10/dist-packages (from torch) (4.12.2)\n",
            "Requirement already satisfied: sympy in /usr/local/lib/python3.10/dist-packages (from torch) (1.13.3)\n",
            "Requirement already satisfied: networkx in /usr/local/lib/python3.10/dist-packages (from torch) (3.3)\n",
            "Requirement already satisfied: jinja2 in /usr/local/lib/python3.10/dist-packages (from torch) (3.1.4)\n",
            "Requirement already satisfied: fsspec in /usr/local/lib/python3.10/dist-packages (from torch) (2024.6.1)\n",
            "Requirement already satisfied: numpy>=1.18.0 in /usr/local/lib/python3.10/dist-packages (from gym) (1.26.4)\n",
            "Requirement already satisfied: cloudpickle>=1.2.0 in /usr/local/lib/python3.10/dist-packages (from gym) (2.2.1)\n",
            "Requirement already satisfied: gym-notices>=0.0.4 in /usr/local/lib/python3.10/dist-packages (from gym) (0.0.8)\n",
            "Requirement already satisfied: MarkupSafe>=2.0 in /usr/local/lib/python3.10/dist-packages (from jinja2->torch) (2.1.5)\n",
            "Requirement already satisfied: mpmath<1.4,>=1.1.0 in /usr/local/lib/python3.10/dist-packages (from sympy->torch) (1.3.0)\n"
          ]
        }
      ],
      "source": [
        "pip install torch gym"
      ]
    },
    {
      "cell_type": "code",
      "source": [
        "import gym\n",
        "import torch\n",
        "import torch.nn as nn\n",
        "import torch.optim as optim\n",
        "import numpy as np"
      ],
      "metadata": {
        "id": "rmTJaCWKIivF"
      },
      "execution_count": null,
      "outputs": []
    },
    {
      "cell_type": "code",
      "source": [
        "# Define the Actor-Critic Network\n",
        "class ActorCritic(nn.Module):\n",
        "    def __init__(self, input_dim, hidden_dim, output_dim):\n",
        "        super(ActorCritic, self).__init__()\n",
        "        # Common layers\n",
        "        self.fc1 = nn.Linear(input_dim, hidden_dim)\n",
        "        self.fc2 = nn.Linear(hidden_dim, hidden_dim)\n",
        "\n",
        "        # Actor's layers\n",
        "        self.actor = nn.Linear(hidden_dim, output_dim)\n",
        "\n",
        "        # Critic's layers\n",
        "        self.critic = nn.Linear(hidden_dim, 1)\n",
        "\n",
        "    def forward(self, x):\n",
        "        x = torch.relu(self.fc1(x))\n",
        "        x = torch.relu(self.fc2(x))\n",
        "\n",
        "        # Actor: returns the probability distribution over actions\n",
        "        actor_probs = torch.softmax(self.actor(x), dim=-1)\n",
        "\n",
        "        # Critic: returns the value of the state\n",
        "        state_value = self.critic(x)\n",
        "\n",
        "        return actor_probs, state_value\n"
      ],
      "metadata": {
        "id": "LYwNXwKxIlLl"
      },
      "execution_count": null,
      "outputs": []
    },
    {
      "cell_type": "code",
      "source": [
        "def train(env, model, optimizer, num_episodes=1000, gamma=0.99):\n",
        "    episode_rewards = []\n",
        "\n",
        "    for episode in range(num_episodes):\n",
        "        state = env.reset()\n",
        "        state = torch.FloatTensor(state)\n",
        "        log_probs = []\n",
        "        values = []\n",
        "        rewards = []\n",
        "        done = False\n",
        "\n",
        "        while not done:\n",
        "            # Get the action probabilities and state value from the model\n",
        "            action_probs, state_value = model(state)\n",
        "            dist = torch.distributions.Categorical(action_probs)\n",
        "            action = dist.sample()\n",
        "            log_prob = dist.log_prob(action)\n",
        "\n",
        "            # Perform the action\n",
        "            next_state, reward, done, _ = env.step(action.item())\n",
        "            next_state = torch.FloatTensor(next_state)\n",
        "\n",
        "            # Store log_probs, values, and rewards\n",
        "            log_probs.append(log_prob)\n",
        "            values.append(state_value)\n",
        "            rewards.append(reward)\n",
        "\n",
        "            # Move to the next state\n",
        "            state = next_state\n",
        "\n",
        "        # Compute returns and advantages\n",
        "        returns = []\n",
        "        Gt = 0\n",
        "        for reward in reversed(rewards):\n",
        "            Gt = reward + gamma * Gt\n",
        "            returns.insert(0, Gt)\n",
        "        returns = torch.FloatTensor(returns)\n",
        "        values = torch.cat(values)\n",
        "\n",
        "        # Normalize returns\n",
        "        returns = (returns - returns.mean()) / (returns.std() + 1e-8)\n",
        "\n",
        "        # Compute loss for Actor and Critic\n",
        "        log_probs = torch.stack(log_probs)\n",
        "        advantage = returns - values\n",
        "\n",
        "        actor_loss = -torch.mean(log_probs * advantage.detach())\n",
        "        critic_loss = torch.mean(advantage ** 2)\n",
        "        loss = actor_loss + critic_loss\n",
        "\n",
        "        # Update model parameters\n",
        "        optimizer.zero_grad()\n",
        "        loss.backward()\n",
        "        optimizer.step()\n",
        "\n",
        "        # Store the total reward of this episode\n",
        "        episode_rewards.append(sum(rewards))\n",
        "\n",
        "        # Print progress every 100 episodes\n",
        "        if (episode + 1) % 100 == 0:\n",
        "            avg_reward = np.mean(episode_rewards[-100:])\n",
        "            print(f'Episode {episode + 1}/{num_episodes}, Average Reward: {avg_reward}')\n",
        "\n",
        "    return episode_rewards"
      ],
      "metadata": {
        "id": "eO9a5BohIqMF"
      },
      "execution_count": null,
      "outputs": []
    },
    {
      "cell_type": "code",
      "source": [
        "# Hyperparameters\n",
        "env = gym.make('CartPole-v1')\n",
        "input_dim = env.observation_space.shape[0]\n",
        "hidden_dim = 128\n",
        "output_dim = env.action_space.n\n",
        "lr = 0.001\n",
        "num_episodes = 1000\n",
        "gamma = 0.99\n",
        "\n",
        "# Initialize the model, optimizer, and train\n",
        "model = ActorCritic(input_dim, hidden_dim, output_dim)\n",
        "optimizer = optim.Adam(model.parameters(), lr=lr)\n",
        "episode_rewards = train(env, model, optimizer, num_episodes, gamma)\n",
        "\n",
        "# Save the trained model\n",
        "torch.save(model.state_dict(), 'actor_critic_cartpole.pth')\n",
        "\n",
        "# To load the model:\n",
        "# model.load_state_dict(torch.load('actor_critic_cartpole.pth'))\n",
        "# model.eval()\n",
        "\n",
        "env.close()\n"
      ],
      "metadata": {
        "colab": {
          "base_uri": "https://localhost:8080/"
        },
        "id": "FpcL5cKtIbJn",
        "outputId": "b5e825e3-b6ca-4d0a-fae3-8f1db74dfe85"
      },
      "execution_count": null,
      "outputs": [
        {
          "output_type": "stream",
          "name": "stderr",
          "text": [
            "/usr/local/lib/python3.10/dist-packages/gym/core.py:317: DeprecationWarning: \u001b[33mWARN: Initializing wrapper in old step API which returns one bool instead of two. It is recommended to set `new_step_api=True` to use new step API. This will be the default behaviour in future.\u001b[0m\n",
            "  deprecation(\n",
            "/usr/local/lib/python3.10/dist-packages/gym/wrappers/step_api_compatibility.py:39: DeprecationWarning: \u001b[33mWARN: Initializing environment in old step API which returns one bool instead of two. It is recommended to set `new_step_api=True` to use new step API. This will be the default behaviour in future.\u001b[0m\n",
            "  deprecation(\n",
            "/usr/local/lib/python3.10/dist-packages/gym/utils/passive_env_checker.py:241: DeprecationWarning: `np.bool8` is a deprecated alias for `np.bool_`.  (Deprecated NumPy 1.24)\n",
            "  if not isinstance(terminated, (bool, np.bool8)):\n"
          ]
        },
        {
          "output_type": "stream",
          "name": "stdout",
          "text": [
            "Episode 100/1000, Average Reward: 27.06\n",
            "Episode 200/1000, Average Reward: 52.88\n",
            "Episode 300/1000, Average Reward: 135.9\n",
            "Episode 400/1000, Average Reward: 216.3\n",
            "Episode 500/1000, Average Reward: 269.01\n",
            "Episode 600/1000, Average Reward: 361.47\n",
            "Episode 700/1000, Average Reward: 352.27\n",
            "Episode 800/1000, Average Reward: 369.56\n",
            "Episode 900/1000, Average Reward: 399.2\n",
            "Episode 1000/1000, Average Reward: 392.14\n"
          ]
        }
      ]
    }
  ]
}